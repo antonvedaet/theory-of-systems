{
 "cells": [
  {
   "cell_type": "code",
   "execution_count": 1,
   "metadata": {},
   "outputs": [
    {
     "name": "stdout",
     "output_type": "stream",
     "text": [
      "Requirement already satisfied: transitions in /home/anton/itmo/theory-of-systems/.venv/lib/python3.13/site-packages (0.9.2)\n",
      "Requirement already satisfied: six in /home/anton/itmo/theory-of-systems/.venv/lib/python3.13/site-packages (from transitions) (1.17.0)\n",
      "Note: you may need to restart the kernel to use updated packages.\n"
     ]
    }
   ],
   "source": [
    "%pip install transitions\n",
    "import transitions"
   ]
  },
  {
   "cell_type": "code",
   "execution_count": 9,
   "metadata": {},
   "outputs": [],
   "source": [
    "from transitions import Machine\n",
    "import time"
   ]
  },
  {
   "cell_type": "code",
   "execution_count": 7,
   "metadata": {},
   "outputs": [],
   "source": [
    "class WashingMachine(object):\n",
    "    pass\n",
    "\n",
    "\n",
    "states = [\"filling\", \"running\", \"draining\", \"fault\", \"stopped\"]\n",
    "\n",
    "transition_table = [\n",
    "    { 'trigger': 'start_button', 'source': 'stopped', 'dest': 'filling' },\n",
    "    { 'trigger': 'd1_success', 'source': 'filling', 'dest': 'running' },\n",
    "    { 'trigger': 'wash_finished', 'source': 'running', 'dest': 'draining' },\n",
    "    { 'trigger': 'd1_error', 'source': 'filling', 'dest': 'fault' },\n",
    "    { 'trigger': 'd2', 'source': 'draining', 'dest': 'stopped' },\n",
    "    { 'trigger': 'repair', 'source': 'fault', 'dest': 'stopped' }\n",
    "]\n",
    "\n",
    "\n",
    "washing_machine = WashingMachine()\n",
    "fsm = Machine(washing_machine, states=states, transitions=transition_table, initial=\"stopped\")"
   ]
  },
  {
   "cell_type": "code",
   "execution_count": 11,
   "metadata": {},
   "outputs": [
    {
     "data": {
      "text/plain": [
       "True"
      ]
     },
     "execution_count": 11,
     "metadata": {},
     "output_type": "execute_result"
    }
   ],
   "source": [
    "washing_machine.is_stopped()"
   ]
  },
  {
   "cell_type": "code",
   "execution_count": 13,
   "metadata": {},
   "outputs": [],
   "source": [
    "def fill(result: bool) -> None:\n",
    "    if result:\n",
    "        washing_machine.d1_success()\n",
    "        print(\"Стиральная машина заполнена водой\")\n",
    "        return\n",
    "    washing_machine.d1_error()\n",
    "    print(\"Стиральная машина неисправна\")\n",
    "    return\n",
    "\n",
    "def press_start_button() -> None:\n",
    "    if washing_machine.is_fault():\n",
    "        print(\"Стиральная машина неисправна, запуск не возможен до ремонта\")\n",
    "        return\n",
    "    washing_machine.start_button()\n",
    "    print(\"Стиральная машина запущена\")\n"
   ]
  },
  {
   "cell_type": "code",
   "execution_count": 16,
   "metadata": {},
   "outputs": [],
   "source": [
    "press_start_button()"
   ]
  },
  {
   "cell_type": "code",
   "execution_count": 18,
   "metadata": {},
   "outputs": [
    {
     "name": "stdout",
     "output_type": "stream",
     "text": [
      "Стиральная машина заполнена водой\n"
     ]
    }
   ],
   "source": [
    "fill(True)"
   ]
  }
 ],
 "metadata": {
  "kernelspec": {
   "display_name": ".venv",
   "language": "python",
   "name": "python3"
  },
  "language_info": {
   "codemirror_mode": {
    "name": "ipython",
    "version": 3
   },
   "file_extension": ".py",
   "mimetype": "text/x-python",
   "name": "python",
   "nbconvert_exporter": "python",
   "pygments_lexer": "ipython3",
   "version": "3.13.1"
  }
 },
 "nbformat": 4,
 "nbformat_minor": 2
}
